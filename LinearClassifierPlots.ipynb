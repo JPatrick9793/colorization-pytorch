{
 "cells": [
  {
   "cell_type": "markdown",
   "id": "5c6af2cb-f7b1-4824-a84f-cc34a431329e",
   "metadata": {},
   "source": [
    "# Imports"
   ]
  },
  {
   "cell_type": "code",
   "execution_count": 1,
   "id": "421b0979-82dc-4394-9539-77c8a1cba51c",
   "metadata": {},
   "outputs": [],
   "source": [
    "import matplotlib.pyplot as plt\n",
    "import seaborn as sns\n",
    "import pandas as pd\n",
    "from pathlib import Path\n",
    "from typing import List, Dict, Tuple\n",
    "from tqdm import tqdm"
   ]
  },
  {
   "cell_type": "code",
   "execution_count": 1,
   "id": "50923d33-3329-46d8-8a46-676fb7fc4914",
   "metadata": {},
   "outputs": [],
   "source": [
    "# Uncomment these lines to install any necessary packages:\n",
    "\n",
    "# !pip install pandas\n",
    "# !pip install seaborn\n",
    "# !pip install matplotlib"
   ]
  },
  {
   "cell_type": "markdown",
   "id": "25fae29c-b2de-4570-95e4-c2d7c504f3cf",
   "metadata": {},
   "source": [
    "# Configurable Variables"
   ]
  },
  {
   "cell_type": "code",
   "execution_count": 1,
   "id": "15b0d90a-c4ea-4386-99f6-a5cf59d6cecd",
   "metadata": {},
   "outputs": [],
   "source": [
    "# Dictionary mapping TF timestamp to model type\n",
    "model_mapper: Dict[str, str] = {\n",
    "    'run-Jul23_10-48-06': 'pretrained',\n",
    "    'run-Jul23_19-36-20': 'modified',\n",
    "    'run-Jul24_04-04-46': 'stylized',\n",
    "    'run-Jul25_22-16-42': 'coco',\n",
    "}\n",
    "\n",
    "# Path containing CSV files from tensorboard\n",
    "path_to_tf_runs = Path(\"linear_classifier_runs/\")"
   ]
  },
  {
   "cell_type": "markdown",
   "id": "a6549951-201f-4615-a1fd-ace62d16bebc",
   "metadata": {},
   "source": [
    "# Helper Function"
   ]
  },
  {
   "cell_type": "code",
   "execution_count": 1,
   "id": "757744f6-f19c-436a-984c-973606fb48ca",
   "metadata": {},
   "outputs": [],
   "source": [
    "def get_last_n_values(df: pd.DataFrame, column: str, n: int = 10):\n",
    "    \n",
    "    for i, value in enumerate(df[column].sort_index(ascending=False)):\n",
    "        yield value\n",
    "        \n",
    "        if i >= n:\n",
    "            break"
   ]
  },
  {
   "cell_type": "markdown",
   "id": "840d6165-40af-4aab-bed4-dd7c0f27ea0e",
   "metadata": {},
   "source": [
    "# Get last N metrics from each run"
   ]
  },
  {
   "cell_type": "code",
   "execution_count": 1,
   "id": "f8a01a89-942d-4804-af93-2c2ce469ae26",
   "metadata": {},
   "outputs": [],
   "source": [
    "# List to keep track of max metrics\n",
    "max_metrics: List[Tuple[str, int, float]] = []\n",
    "\n",
    "# Iterate over directory\n",
    "all_csv_files = [f for f in path_to_tf_runs.iterdir() if f.is_file()]\n",
    "for csv_file in tqdm(all_csv_files):\n",
    "    \n",
    "    # Check if file first\n",
    "    if not csv_file.is_file():\n",
    "        continue\n",
    "    \n",
    "    # Parse layer number from file name\n",
    "    layer_number: int = int(csv_file.stem.split('_')[-1][-1])\n",
    "        \n",
    "    # Parse model type from file name, and convert via \"model_mapper\" dictionary above\n",
    "    model_tf_ts: str = '_'.join(csv_file.name.split('_')[:2])\n",
    "    model_type: str = model_mapper[model_tf_ts]\n",
    "        \n",
    "    # Load csv into pandas dataframe and get best validation accuracy\n",
    "    df = pd.read_csv(str(csv_file))\n",
    "    \n",
    "    # max_acc = df['Value'].max()\n",
    "    for value in get_last_n_values(df=df, column=\"Value\", n=3):\n",
    "        max_metrics.append((model_type, layer_number, value))\n",
    "\n",
    "df_metrics = pd.DataFrame(max_metrics, columns=['Model', 'Layer_Number', 'Max_Validation_Accuracy'])"
   ]
  },
  {
   "cell_type": "markdown",
   "id": "7bdbfe16-1973-4df9-a9a7-1fb37199403d",
   "metadata": {},
   "source": [
    "# Create the plot"
   ]
  },
  {
   "cell_type": "code",
   "execution_count": 1,
   "id": "aa2d42f4-e0f3-40a6-8ebc-6f38c8dc4083",
   "metadata": {},
   "outputs": [],
   "source": [
    "with sns.axes_style(\"darkgrid\"):\n",
    "    \n",
    "    fig, ax = plt.subplots()\n",
    "    # fig.set_size_inches(11.7, 8.27)\n",
    "    fig.set_size_inches(8, 6.5)\n",
    "\n",
    "    g = sns.lineplot(data=df_metrics, x=\"Layer_Number\", y=\"Max_Validation_Accuracy\", hue=\"Model\", ax=ax, ci=95, marker=\"o\")\n",
    "    \n",
    "    ax.set_title(\"ILSVRC2012 Linear Classification\")\n",
    "    ax.set_xlabel(\"Layer Number\")\n",
    "    ax.set_ylabel(\"Validation Accuracy\")\n",
    "    \n",
    "    g.set_xticks(range(1, 6))\n",
    "    g.set_xticklabels(['conv1','conv2','conv3','conv4','conv5'])\n",
    "        "
   ]
  }
 ],
 "metadata": {
  "kernelspec": {
   "display_name": "Python 3 (ipykernel)",
   "language": "python",
   "name": "python3"
  },
  "language_info": {
   "codemirror_mode": {
    "name": "ipython",
    "version": 3
   },
   "file_extension": ".py",
   "mimetype": "text/x-python",
   "name": "python",
   "nbconvert_exporter": "python",
   "pygments_lexer": "ipython3",
   "version": "3.7.10"
  }
 },
 "nbformat": 4,
 "nbformat_minor": 5
}
